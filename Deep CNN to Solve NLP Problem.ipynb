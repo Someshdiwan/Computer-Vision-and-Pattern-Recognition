{
 "cells": [
  {
   "cell_type": "code",
   "execution_count": 7,
   "id": "6814df46-ef8b-4944-b8f9-2718b3bca81f",
   "metadata": {},
   "outputs": [
    {
     "data": {
      "text/html": [
       "<pre style=\"white-space:pre;overflow-x:auto;line-height:normal;font-family:Menlo,'DejaVu Sans Mono',consolas,'Courier New',monospace\"><span style=\"font-weight: bold\">Model: \"sequential_2\"</span>\n",
       "</pre>\n"
      ],
      "text/plain": [
       "\u001b[1mModel: \"sequential_2\"\u001b[0m\n"
      ]
     },
     "metadata": {},
     "output_type": "display_data"
    },
    {
     "data": {
      "text/html": [
       "<pre style=\"white-space:pre;overflow-x:auto;line-height:normal;font-family:Menlo,'DejaVu Sans Mono',consolas,'Courier New',monospace\">┏━━━━━━━━━━━━━━━━━━━━━━━━━━━━━━━━━━━━━━┳━━━━━━━━━━━━━━━━━━━━━━━━━━━━━┳━━━━━━━━━━━━━━━━━┓\n",
       "┃<span style=\"font-weight: bold\"> Layer (type)                         </span>┃<span style=\"font-weight: bold\"> Output Shape                </span>┃<span style=\"font-weight: bold\">         Param # </span>┃\n",
       "┡━━━━━━━━━━━━━━━━━━━━━━━━━━━━━━━━━━━━━━╇━━━━━━━━━━━━━━━━━━━━━━━━━━━━━╇━━━━━━━━━━━━━━━━━┩\n",
       "│ embedding_2 (<span style=\"color: #0087ff; text-decoration-color: #0087ff\">Embedding</span>)              │ ?                           │     <span style=\"color: #00af00; text-decoration-color: #00af00\">0</span> (unbuilt) │\n",
       "├──────────────────────────────────────┼─────────────────────────────┼─────────────────┤\n",
       "│ conv1d_2 (<span style=\"color: #0087ff; text-decoration-color: #0087ff\">Conv1D</span>)                    │ ?                           │     <span style=\"color: #00af00; text-decoration-color: #00af00\">0</span> (unbuilt) │\n",
       "├──────────────────────────────────────┼─────────────────────────────┼─────────────────┤\n",
       "│ global_max_pooling1d_2               │ ?                           │               <span style=\"color: #00af00; text-decoration-color: #00af00\">0</span> │\n",
       "│ (<span style=\"color: #0087ff; text-decoration-color: #0087ff\">GlobalMaxPooling1D</span>)                 │                             │                 │\n",
       "├──────────────────────────────────────┼─────────────────────────────┼─────────────────┤\n",
       "│ dense_4 (<span style=\"color: #0087ff; text-decoration-color: #0087ff\">Dense</span>)                      │ ?                           │     <span style=\"color: #00af00; text-decoration-color: #00af00\">0</span> (unbuilt) │\n",
       "├──────────────────────────────────────┼─────────────────────────────┼─────────────────┤\n",
       "│ dropout_2 (<span style=\"color: #0087ff; text-decoration-color: #0087ff\">Dropout</span>)                  │ ?                           │               <span style=\"color: #00af00; text-decoration-color: #00af00\">0</span> │\n",
       "├──────────────────────────────────────┼─────────────────────────────┼─────────────────┤\n",
       "│ dense_5 (<span style=\"color: #0087ff; text-decoration-color: #0087ff\">Dense</span>)                      │ ?                           │     <span style=\"color: #00af00; text-decoration-color: #00af00\">0</span> (unbuilt) │\n",
       "└──────────────────────────────────────┴─────────────────────────────┴─────────────────┘\n",
       "</pre>\n"
      ],
      "text/plain": [
       "┏━━━━━━━━━━━━━━━━━━━━━━━━━━━━━━━━━━━━━━┳━━━━━━━━━━━━━━━━━━━━━━━━━━━━━┳━━━━━━━━━━━━━━━━━┓\n",
       "┃\u001b[1m \u001b[0m\u001b[1mLayer (type)                        \u001b[0m\u001b[1m \u001b[0m┃\u001b[1m \u001b[0m\u001b[1mOutput Shape               \u001b[0m\u001b[1m \u001b[0m┃\u001b[1m \u001b[0m\u001b[1m        Param #\u001b[0m\u001b[1m \u001b[0m┃\n",
       "┡━━━━━━━━━━━━━━━━━━━━━━━━━━━━━━━━━━━━━━╇━━━━━━━━━━━━━━━━━━━━━━━━━━━━━╇━━━━━━━━━━━━━━━━━┩\n",
       "│ embedding_2 (\u001b[38;5;33mEmbedding\u001b[0m)              │ ?                           │     \u001b[38;5;34m0\u001b[0m (unbuilt) │\n",
       "├──────────────────────────────────────┼─────────────────────────────┼─────────────────┤\n",
       "│ conv1d_2 (\u001b[38;5;33mConv1D\u001b[0m)                    │ ?                           │     \u001b[38;5;34m0\u001b[0m (unbuilt) │\n",
       "├──────────────────────────────────────┼─────────────────────────────┼─────────────────┤\n",
       "│ global_max_pooling1d_2               │ ?                           │               \u001b[38;5;34m0\u001b[0m │\n",
       "│ (\u001b[38;5;33mGlobalMaxPooling1D\u001b[0m)                 │                             │                 │\n",
       "├──────────────────────────────────────┼─────────────────────────────┼─────────────────┤\n",
       "│ dense_4 (\u001b[38;5;33mDense\u001b[0m)                      │ ?                           │     \u001b[38;5;34m0\u001b[0m (unbuilt) │\n",
       "├──────────────────────────────────────┼─────────────────────────────┼─────────────────┤\n",
       "│ dropout_2 (\u001b[38;5;33mDropout\u001b[0m)                  │ ?                           │               \u001b[38;5;34m0\u001b[0m │\n",
       "├──────────────────────────────────────┼─────────────────────────────┼─────────────────┤\n",
       "│ dense_5 (\u001b[38;5;33mDense\u001b[0m)                      │ ?                           │     \u001b[38;5;34m0\u001b[0m (unbuilt) │\n",
       "└──────────────────────────────────────┴─────────────────────────────┴─────────────────┘\n"
      ]
     },
     "metadata": {},
     "output_type": "display_data"
    },
    {
     "data": {
      "text/html": [
       "<pre style=\"white-space:pre;overflow-x:auto;line-height:normal;font-family:Menlo,'DejaVu Sans Mono',consolas,'Courier New',monospace\"><span style=\"font-weight: bold\"> Total params: </span><span style=\"color: #00af00; text-decoration-color: #00af00\">0</span> (0.00 B)\n",
       "</pre>\n"
      ],
      "text/plain": [
       "\u001b[1m Total params: \u001b[0m\u001b[38;5;34m0\u001b[0m (0.00 B)\n"
      ]
     },
     "metadata": {},
     "output_type": "display_data"
    },
    {
     "data": {
      "text/html": [
       "<pre style=\"white-space:pre;overflow-x:auto;line-height:normal;font-family:Menlo,'DejaVu Sans Mono',consolas,'Courier New',monospace\"><span style=\"font-weight: bold\"> Trainable params: </span><span style=\"color: #00af00; text-decoration-color: #00af00\">0</span> (0.00 B)\n",
       "</pre>\n"
      ],
      "text/plain": [
       "\u001b[1m Trainable params: \u001b[0m\u001b[38;5;34m0\u001b[0m (0.00 B)\n"
      ]
     },
     "metadata": {},
     "output_type": "display_data"
    },
    {
     "data": {
      "text/html": [
       "<pre style=\"white-space:pre;overflow-x:auto;line-height:normal;font-family:Menlo,'DejaVu Sans Mono',consolas,'Courier New',monospace\"><span style=\"font-weight: bold\"> Non-trainable params: </span><span style=\"color: #00af00; text-decoration-color: #00af00\">0</span> (0.00 B)\n",
       "</pre>\n"
      ],
      "text/plain": [
       "\u001b[1m Non-trainable params: \u001b[0m\u001b[38;5;34m0\u001b[0m (0.00 B)\n"
      ]
     },
     "metadata": {},
     "output_type": "display_data"
    },
    {
     "name": "stdout",
     "output_type": "stream",
     "text": [
      "Epoch 1/5\n",
      "\u001b[1m625/625\u001b[0m \u001b[32m━━━━━━━━━━━━━━━━━━━━\u001b[0m\u001b[37m\u001b[0m \u001b[1m11s\u001b[0m 15ms/step - accuracy: 0.5199 - loss: 0.6922 - val_accuracy: 0.7088 - val_loss: 0.6643\n",
      "Epoch 2/5\n",
      "\u001b[1m625/625\u001b[0m \u001b[32m━━━━━━━━━━━━━━━━━━━━\u001b[0m\u001b[37m\u001b[0m \u001b[1m10s\u001b[0m 15ms/step - accuracy: 0.7060 - loss: 0.6119 - val_accuracy: 0.7902 - val_loss: 0.4693\n",
      "Epoch 3/5\n",
      "\u001b[1m625/625\u001b[0m \u001b[32m━━━━━━━━━━━━━━━━━━━━\u001b[0m\u001b[37m\u001b[0m \u001b[1m10s\u001b[0m 16ms/step - accuracy: 0.8063 - loss: 0.4355 - val_accuracy: 0.8360 - val_loss: 0.3879\n",
      "Epoch 4/5\n",
      "\u001b[1m625/625\u001b[0m \u001b[32m━━━━━━━━━━━━━━━━━━━━\u001b[0m\u001b[37m\u001b[0m \u001b[1m10s\u001b[0m 16ms/step - accuracy: 0.8491 - loss: 0.3545 - val_accuracy: 0.8580 - val_loss: 0.3398\n",
      "Epoch 5/5\n",
      "\u001b[1m625/625\u001b[0m \u001b[32m━━━━━━━━━━━━━━━━━━━━\u001b[0m\u001b[37m\u001b[0m \u001b[1m10s\u001b[0m 15ms/step - accuracy: 0.8821 - loss: 0.2908 - val_accuracy: 0.8718 - val_loss: 0.3089\n",
      "\u001b[1m782/782\u001b[0m \u001b[32m━━━━━━━━━━━━━━━━━━━━\u001b[0m\u001b[37m\u001b[0m \u001b[1m5s\u001b[0m 6ms/step\n",
      "Accuracy: 0.8648\n",
      "Confusion Matrix:\n",
      " [[10975  1525]\n",
      " [ 1856 10644]]\n",
      "Classification Report:\n",
      "               precision    recall  f1-score   support\n",
      "\n",
      "           0       0.86      0.88      0.87     12500\n",
      "           1       0.87      0.85      0.86     12500\n",
      "\n",
      "    accuracy                           0.86     25000\n",
      "   macro avg       0.87      0.86      0.86     25000\n",
      "weighted avg       0.87      0.86      0.86     25000\n",
      "\n"
     ]
    },
    {
     "data": {
      "image/png": "[encoded data removed]",
      "text/plain": [
       "<Figure size 640x480 with 1 Axes>"
      ]
     },
     "metadata": {},
     "output_type": "display_data"
    }
   ],
   "source": [
    "# Import necessary libraries\n",
    "import numpy as np\n",
    "import tensorflow as tf\n",
    "from tensorflow.keras import Sequential\n",
    "from tensorflow.keras.layers import Embedding, Conv1D, GlobalMaxPooling1D, Dense, Dropout\n",
    "from tensorflow.keras.optimizers import Adam\n",
    "from tensorflow.keras.preprocessing.sequence import pad_sequences\n",
    "from tensorflow.keras.datasets import imdb\n",
    "from sklearn.metrics import accuracy_score, confusion_matrix, classification_report\n",
    "import matplotlib.pyplot as plt\n",
    "\n",
    "# Load the IMDb dataset\n",
    "max_words = 10000\n",
    "max_len = 200\n",
    "(x_train, y_train), (x_test, y_test) = imdb.load_data(num_words=max_words)\n",
    "\n",
    "# Pad sequences to the same length\n",
    "x_train = pad_sequences(x_train, maxlen=max_len)\n",
    "x_test = pad_sequences(x_test, maxlen=max_len)\n",
    "\n",
    "# Build the CNN model\n",
    "embedding_dim = 50\n",
    "filters = 250\n",
    "kernel_size = 3\n",
    "\n",
    "model = Sequential()\n",
    "model.add(Embedding(input_dim=max_words, output_dim=embedding_dim, input_length=max_len))\n",
    "model.add(Conv1D(filters=filters, kernel_size=kernel_size, activation='relu'))\n",
    "model.add(GlobalMaxPooling1D())\n",
    "model.add(Dense(128, activation='relu'))\n",
    "model.add(Dropout(0.5))\n",
    "model.add(Dense(1, activation='sigmoid'))\n",
    "\n",
    "# Compile the model with the correct learning rate parameter\n",
    "model.compile(optimizer=Adam(learning_rate=1e-4), loss='binary_crossentropy', metrics=['accuracy'])\n",
    "\n",
    "# Display the model summary\n",
    "model.summary()\n",
    "\n",
    "# Train the model\n",
    "history = model.fit(x_train, y_train, epochs=5, batch_size=32, validation_split=0.2)\n",
    "\n",
    "# Evaluate the model and predict on the test set\n",
    "y_pred = model.predict(x_test)\n",
    "y_pred_binary = np.round(y_pred).flatten()\n",
    "\n",
    "# Compute metrics\n",
    "accuracy = accuracy_score(y_test, y_pred_binary)\n",
    "conf_matrix = confusion_matrix(y_test, y_pred_binary)\n",
    "classification_rep = classification_report(y_test, y_pred_binary)\n",
    "\n",
    "# Print evaluation metrics\n",
    "print(f'Accuracy: {accuracy:.4f}')\n",
    "print('Confusion Matrix:\\n', conf_matrix)\n",
    "print('Classification Report:\\n', classification_rep)\n",
    "\n",
    "# Plot training history\n",
    "plt.plot(history.history['accuracy'], label='Training Accuracy')\n",
    "plt.plot(history.history['val_accuracy'], label='Validation Accuracy')\n",
    "plt.title('Training and Validation Accuracy')\n",
    "plt.xlabel('Epoch')\n",
    "plt.ylabel('Accuracy')\n",
    "plt.legend()\n",
    "plt.show()\n"
   ]
  },
  {
   "cell_type": "code",
   "execution_count": null,
   "id": "5f12b580-e373-4762-a86e-c0d5bb6ab9b6",
   "metadata": {},
   "outputs": [],
   "source": [
    "1. Natural Language Processing (NLP):\n",
    "\n",
    "NLP is a subfield of artificial intelligence (AI) focused on the interaction between computers and human (natural) languages. \n",
    "The ultimate goal of NLP is to enable computers to read, understand, and generate human language in a way that is both meaningful and useful.\n",
    "\n",
    "In your case, you are dealing with text data (IMDB reviews) and using a Convolutional Neural Network (CNN) for text classification, which is a form of NLP application.\n",
    "\n",
    "Key NLP Tasks:\n",
    "\n",
    "Text Classification: The task of categorizing text into predefined labels (like sentiment classification, spam detection, etc.).\n",
    "In your code, the model performs binary classification (positive or negative sentiment of movie reviews).\n",
    "Information Extraction (IE): This involves extracting useful information from unstructured text, such as identifying named entities (e.g., people, locations), relationships between entities, etc.\n",
    "\n",
    "Text Generation: This is the task of generating new text based on the learned patterns from a dataset. Examples include generating poetry, machine translation, and text completion.\n",
    "\n",
    "2. Text Processing:\n",
    "\n",
    "Text processing is a crucial step in NLP to prepare the raw text data for further analysis or model training. This includes several key techniques:\n",
    "\n",
    "Tokenization: The process of splitting a large text into smaller chunks, such as words or sentences. In your code, the imdb.load_data() function automatically tokenizes the text into sequences of integer-encoded words.\n",
    "\n",
    "Padding: In your code, the pad_sequences() function is used to ensure all input sequences have the same length. Padding is essential for input consistency, especially when using neural networks like CNNs.\n",
    "\n",
    "Vectorization: This is the process of converting text into numerical representations. In the code, the Embedding layer is used to convert words into dense vectors (word embeddings) that capture semantic relationships between words.\n",
    "\n",
    "3. Text Classification:\n",
    "\n",
    "Text classification is the process of categorizing text into predefined classes or labels. \n",
    "\n",
    "It’s one of the most common NLP tasks, and there are various approaches to solve it, ranging from traditional machine learning techniques to deep learning models like CNNs and RNNs.\n",
    "\n",
    "In your code, the goal is to perform sentiment analysis on IMDB movie reviews, classifying each review as either positive or negative. \n",
    "\n",
    "This is done using a CNN architecture that is well suited for capturing hierarchical patterns in text.\n",
    "\n",
    "CNN for Text Classification: CNNs, though originally designed for image data, are also effective for text classification tasks. They can capture local patterns (such as n-grams) in the text, making them useful for sentiment analysis.\n",
    "\n",
    "Binary Cross-Entropy Loss: The model uses binary cross-entropy as the loss function since it is a binary classification problem (positive vs. negative).\n",
    "\n",
    "4. Text Generation:\n",
    "\n",
    "Text generation involves the creation of new, coherent text based on an initial input or seed text. \n",
    "\n",
    "This task can be accomplished with deep learning models such as Recurrent Neural Networks (RNNs), Long Short-Term Memory (LSTM) networks, and Transformer-based architectures (like GPT-3).\n",
    "\n",
    "While your code does not directly perform text generation, an understanding of text generation models helps to appreciate how similar models are trained on large corpora to generate human-like text. \n",
    "\n",
    "Applications include chatbot responses, auto-completion, and creative writing.\n",
    "\n",
    "5. Information Extraction (IE):\n",
    "\n",
    "Information extraction (IE) is a process in NLP that automatically identifies structured information from unstructured text. \n",
    "\n",
    "The goal is to extract useful pieces of information, such as entities, relationships, and facts, which can then be used in other applications like knowledge graphs or question answering.\n",
    "\n",
    "Named Entity Recognition (NER): A sub-task of information extraction that focuses on identifying named entities in the text, such as names of people, organizations, and locations.\n",
    "\n",
    "Relationship Extraction: Identifying relationships between entities (e.g., \"person X works at company Y\").\n",
    "\n",
    "6. Evaluation Metrics:\n",
    "\n",
    "In your code, you are evaluating the model performance using metrics such as accuracy, confusion matrix, and classification report.\n",
    "\n",
    "Accuracy: Measures the percentage of correct predictions. For binary classification, accuracy is a common metric.\n",
    "\n",
    "Confusion Matrix: A table used to evaluate the performance of a classification model. It shows the counts of true positives, false positives, true negatives, and false negatives.\n",
    "\n",
    "Classification Report: Provides detailed evaluation metrics, such as precision, recall, F1-score, and support. \n",
    "These metrics help assess the model’s ability to make correct predictions, especially when dealing with imbalanced datasets.\n",
    "\n",
    "7. Model Architecture:\n",
    "\n",
    "The architecture of the CNN in your code involves several important layers, each serving a specific purpose:\n",
    "\n",
    "Embedding Layer: This layer is used to convert the input text (words) into dense vectors that capture semantic meaning. It is initialized with random values and gets updated during the training process.\n",
    "\n",
    "Convolutional Layer: These layers are used to capture local patterns in the text. In the case of text, they can detect word n-grams, like certain phrases or combinations of words that are indicative of sentiment.\n",
    "\n",
    "Global Max Pooling: After applying convolutional layers, a pooling layer reduces the dimensionality by selecting the most prominent feature (e.g., the most important n-gram pattern).\n",
    "\n",
    "Dense Layer: These fully connected layers help the model make predictions based on the learned features. In your code, these layers are used to make the final sentiment classification.\n",
    "\n",
    "Dropout: Dropout is a regularization technique that helps prevent overfitting by randomly setting some of the activations to zero during training.\n",
    "\n",
    "Conclusion:\n",
    "\n",
    "The code provided is an implementation of a deep convolutional neural network for text classification. It showcases the use of CNNs for NLP tasks, specifically sentiment analysis on the IMDB dataset. \n",
    "\n",
    "Key concepts such as tokenization, padding, embedding, convolutional layers, and evaluation metrics are central to understanding how the model works."
   ]
  }
 ],
 "metadata": {
  "kernelspec": {
   "display_name": "Python 3 (ipykernel)",
   "language": "python",
   "name": "python3"
  },
  "language_info": {
   "codemirror_mode": {
    "name": "ipython",
    "version": 3
   },
   "file_extension": ".py",
   "mimetype": "text/x-python",
   "name": "python",
   "nbconvert_exporter": "python",
   "pygments_lexer": "ipython3",
   "version": "3.12.7"
  }
 },
 "nbformat": 4,
 "nbformat_minor": 5
}
